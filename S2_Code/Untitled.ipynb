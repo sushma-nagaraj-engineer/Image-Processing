{
 "cells": [
  {
   "cell_type": "code",
   "execution_count": 3,
   "metadata": {},
   "outputs": [
    {
     "name": "stdout",
     "output_type": "stream",
     "text": [
      "['df1001_s1_p2.cam0.avi--00_00_35--00001.png', 'df1001_s1_p2.cam0.avi--00_00_41--00002.png', 'df1001_s1_p2.cam0.avi--00_01_48--00003.png', 'df1001_s1_p2.cam0.avi--00_01_54--00004.png', 'df1001_s1_p2.cam0.avi--00_04_03--00005.png', 'df1001_s1_p2.cam0.avi--00_04_04--00006.png', 'df1001_s1_p2.cam0.avi--00_05_56--00007.png', 'df1001_s1_p2.cam0.avi--00_06_00--00008.png', 'df1001_s1_p2.cam0.avi--00_06_33--00009.png', 'df1001_s1_p2.cam0.avi--00_06_37--00010.png', 'df1001_s1_p2.cam0.avi--00_07_41--00011.png', 'df1001_s1_p2.cam0.avi--00_07_47--00012.png', 'import numpy as np.docx']\n",
      "13\n",
      "df1001_s1_p2.cam0.avi--00_00_35--00001.png\n",
      "21\n",
      "[21, 22, 31, 32]\n",
      "21\n",
      "f1001_s1_p2.cam0.avi\n",
      "00_00_35\n",
      "13\n",
      "d\n",
      "f1001_s1_p2.cam0.avi\n",
      "00_00_35\n",
      "actual code\n",
      "df1001_s1_p2.cam0.avi--00_00_35--00001.png\n",
      "Start time: 00_00_35\n",
      "df1001_s1_p2.cam0.avi--00_00_41--00002.png\n",
      "end time: 00_00_41\n",
      "df1001_s1_p2.cam0.avi--00_01_48--00003.png\n",
      "Start time: 00_01_48\n",
      "df1001_s1_p2.cam0.avi--00_01_54--00004.png\n",
      "end time: 00_01_54\n",
      "df1001_s1_p2.cam0.avi--00_04_03--00005.png\n",
      "Start time: 00_04_03\n",
      "df1001_s1_p2.cam0.avi--00_04_04--00006.png\n",
      "end time: 00_04_04\n",
      "df1001_s1_p2.cam0.avi--00_05_56--00007.png\n",
      "Start time: 00_05_56\n",
      "df1001_s1_p2.cam0.avi--00_06_00--00008.png\n",
      "end time: 00_06_00\n",
      "df1001_s1_p2.cam0.avi--00_06_33--00009.png\n",
      "Start time: 00_06_33\n",
      "df1001_s1_p2.cam0.avi--00_06_37--00010.png\n",
      "end time: 00_06_37\n",
      "df1001_s1_p2.cam0.avi--00_07_41--00011.png\n",
      "Start time: 00_07_41\n",
      "df1001_s1_p2.cam0.avi--00_07_47--00012.png\n",
      "end time: 00_07_47\n",
      "import numpy as np.docx\n"
     ]
    },
    {
     "ename": "IndexError",
     "evalue": "list index out of range",
     "output_type": "error",
     "traceback": [
      "\u001b[1;31m---------------------------------------------------------------------------\u001b[0m",
      "\u001b[1;31mIndexError\u001b[0m                                Traceback (most recent call last)",
      "\u001b[1;32m<ipython-input-3-8c90cbd02934>\u001b[0m in \u001b[0;36m<module>\u001b[1;34m()\u001b[0m\n\u001b[0;32m     34\u001b[0m     \u001b[0mfile_index1\u001b[0m\u001b[1;33m=\u001b[0m\u001b[1;33m(\u001b[0m\u001b[0mfile\u001b[0m\u001b[1;33m[\u001b[0m\u001b[0mx\u001b[0m\u001b[1;33m]\u001b[0m\u001b[1;33m)\u001b[0m\u001b[1;33m\u001b[0m\u001b[0m\n\u001b[0;32m     35\u001b[0m     \u001b[0mprint\u001b[0m\u001b[1;33m(\u001b[0m\u001b[0mfile_index1\u001b[0m\u001b[1;33m)\u001b[0m\u001b[1;33m\u001b[0m\u001b[0m\n\u001b[1;32m---> 36\u001b[1;33m     \u001b[0mcheck\u001b[0m\u001b[1;33m=\u001b[0m\u001b[1;33m(\u001b[0m\u001b[0mfile_index1\u001b[0m\u001b[1;33m[\u001b[0m\u001b[1;33m(\u001b[0m\u001b[0modd_even\u001b[0m\u001b[1;33m[\u001b[0m\u001b[1;36m3\u001b[0m\u001b[1;33m]\u001b[0m\u001b[1;33m+\u001b[0m\u001b[1;36m1\u001b[0m\u001b[1;33m)\u001b[0m\u001b[1;33m:\u001b[0m\u001b[1;33m(\u001b[0m\u001b[0modd_even\u001b[0m\u001b[1;33m[\u001b[0m\u001b[1;36m3\u001b[0m\u001b[1;33m]\u001b[0m\u001b[1;33m+\u001b[0m\u001b[1;36m6\u001b[0m\u001b[1;33m)\u001b[0m\u001b[1;33m]\u001b[0m\u001b[1;33m)\u001b[0m\u001b[1;33m\u001b[0m\u001b[0m\n\u001b[0m\u001b[0;32m     37\u001b[0m     \u001b[1;31m#print(check)\u001b[0m\u001b[1;33m\u001b[0m\u001b[1;33m\u001b[0m\u001b[0m\n\u001b[0;32m     38\u001b[0m     \u001b[1;31m#type (check)\u001b[0m\u001b[1;33m\u001b[0m\u001b[1;33m\u001b[0m\u001b[0m\n",
      "\u001b[1;31mIndexError\u001b[0m: list index out of range"
     ]
    }
   ],
   "source": [
    "import numpy as np\n",
    "import os\n",
    "import sys\n",
    "def find(str,ch):\n",
    "     for i, ltr in enumerate(str):\n",
    "        if ltr == ch:\n",
    "            yield i\n",
    "file=os.listdir(\"D:\\Dr.Gans\\S2\")\n",
    "print (file)\n",
    "size=len(file)\n",
    "print (size)\n",
    "file_index=(file[0])\n",
    "print(file[0])\n",
    "r=(file[0]).find('-')\n",
    "print(r)\n",
    "result=list(find((file_index),\"-\"))\n",
    "print (result)\n",
    "print(result[0])\n",
    "file_name=(file_index[1:(result[0])])\n",
    "start_time=(file_index[(result[0])+2:(result[0])+10])\n",
    "print (file_name)\n",
    "print(start_time)\n",
    "print(size)\n",
    "print(file_index[0])\n",
    "print (file_name)\n",
    "print(start_time)\n",
    "\n",
    "note=\"actual code\"\n",
    "print(note)\n",
    "for x in range(0,(size),1):\n",
    "    file_index1=(file[x])\n",
    "    odd_even=list(find((file_index1),\"-\"))\n",
    "    #print (odd_even)\n",
    "    file_index1=(file[x])\n",
    "    print(file_index1)\n",
    "    check=(file_index1[(odd_even[3]+1):(odd_even[3]+6)])\n",
    "    #print(check)\n",
    "    #type (check)\n",
    "    check1=int(check)\n",
    "    #print(check1)\n",
    "    #if(((check1)%2)==0):\n",
    "        #end_time=(file_index1[(odd_even[0])+2:(odd_even[0])+10])\n",
    "        #final=\"End time: \"\n",
    "        #print (final+ (end_time))\n",
    "    #else:\n",
    "            #start_time=(file_index1[(odd_even[0])+2:(odd_even[0])+10])\n",
    "            #final1=\"start time: \"\n",
    "            #print(final1+ (start_time))\n",
    "    if(((check1)%2)!=0):\n",
    "        start_time=(file_index1[(odd_even[0])+2:(odd_even[0])+10])\n",
    "        final=\"Start time: \"\n",
    "        print (final+ (start_time))\n",
    "    else:\n",
    "        end_time=(file_index1[(odd_even[0])+2:(odd_even[0])+10])\n",
    "        final1=\"end time: \"\n",
    "        print(final1+ (end_time))\n",
    "            \n",
    "\n",
    "\n",
    "\n",
    "\n",
    "\n",
    "    \n",
    "\n",
    "\n"
   ]
  },
  {
   "cell_type": "code",
   "execution_count": null,
   "metadata": {
    "collapsed": true
   },
   "outputs": [],
   "source": []
  },
  {
   "cell_type": "code",
   "execution_count": null,
   "metadata": {
    "collapsed": true
   },
   "outputs": [],
   "source": []
  },
  {
   "cell_type": "code",
   "execution_count": null,
   "metadata": {
    "collapsed": true
   },
   "outputs": [],
   "source": []
  },
  {
   "cell_type": "code",
   "execution_count": null,
   "metadata": {
    "collapsed": true
   },
   "outputs": [],
   "source": []
  },
  {
   "cell_type": "code",
   "execution_count": null,
   "metadata": {
    "collapsed": true
   },
   "outputs": [],
   "source": []
  }
 ],
 "metadata": {
  "kernelspec": {
   "display_name": "Python 3",
   "language": "python",
   "name": "python3"
  },
  "language_info": {
   "codemirror_mode": {
    "name": "ipython",
    "version": 3
   },
   "file_extension": ".py",
   "mimetype": "text/x-python",
   "name": "python",
   "nbconvert_exporter": "python",
   "pygments_lexer": "ipython3",
   "version": "3.6.3"
  }
 },
 "nbformat": 4,
 "nbformat_minor": 2
}
